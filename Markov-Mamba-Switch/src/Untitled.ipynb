{
 "cells": [
  {
   "cell_type": "code",
   "execution_count": 37,
   "id": "0584eb4e-cfa7-47a1-9553-60b4798400e9",
   "metadata": {},
   "outputs": [],
   "source": [
    "import torch\n",
    "import torch.nn.functional as F\n",
    "import numpy as np"
   ]
  },
  {
   "cell_type": "code",
   "execution_count": 3,
   "id": "20df097a-be7a-4238-a6ad-2701901f4945",
   "metadata": {},
   "outputs": [],
   "source": [
    "e0 = torch.Tensor([0.3085,0.004,0.9869,0.0418])\n",
    "e1 = torch.Tensor([0.2788,-0.006,-0.0588,1.4087])"
   ]
  },
  {
   "cell_type": "code",
   "execution_count": 29,
   "id": "67aa11c3-1fc7-4e43-8345-29c725d7c130",
   "metadata": {},
   "outputs": [],
   "source": [
    "w = torch.Tensor([-0.2124, 0.1796, 0.1448,-0.1531])"
   ]
  },
  {
   "cell_type": "code",
   "execution_count": 31,
   "id": "86fe0c5c-dd74-4685-8a39-333eabb7b384",
   "metadata": {},
   "outputs": [
    {
     "data": {
      "text/plain": [
       "tensor(0.0717)"
      ]
     },
     "execution_count": 31,
     "metadata": {},
     "output_type": "execute_result"
    }
   ],
   "source": [
    "torch.dot(w,e0)"
   ]
  },
  {
   "cell_type": "code",
   "execution_count": 32,
   "id": "2580cb5e-ab74-48bc-ae18-bde304471929",
   "metadata": {},
   "outputs": [],
   "source": [
    "w0 = torch.Tensor([-0.2560,0.2789,-0.0759,0.0717])\n",
    "w1 = torch.Tensor([-1.4816,0.1158,-0.2241,-0.2845])"
   ]
  },
  {
   "cell_type": "code",
   "execution_count": 40,
   "id": "ae1849d2-9855-4683-a27b-65ff2baf22c7",
   "metadata": {},
   "outputs": [
    {
     "data": {
      "text/plain": [
       "tensor(0.8237)"
      ]
     },
     "execution_count": 40,
     "metadata": {},
     "output_type": "execute_result"
    }
   ],
   "source": [
    "np.arccos(torch.dot(w0,w1)/(torch.linalg.norm(w0)*torch.linalg.norm(w1)))"
   ]
  },
  {
   "cell_type": "code",
   "execution_count": 41,
   "id": "3a7fe02d-38cd-410d-ba6e-eb0fe9e9ee84",
   "metadata": {},
   "outputs": [
    {
     "data": {
      "text/plain": [
       "47.218471337579615"
      ]
     },
     "execution_count": 41,
     "metadata": {},
     "output_type": "execute_result"
    }
   ],
   "source": [
    "0.8237*180/3.14"
   ]
  },
  {
   "cell_type": "code",
   "execution_count": 38,
   "id": "37e7bde9-9c70-46dc-8679-f0b42cfee75b",
   "metadata": {},
   "outputs": [
    {
     "data": {
      "text/plain": [
       "tensor(1.5124)"
      ]
     },
     "execution_count": 38,
     "metadata": {},
     "output_type": "execute_result"
    }
   ],
   "source": [
    "np.arccos(torch.dot(e0,e1)/(torch.linalg.norm(e0)*torch.linalg.norm(e1)))"
   ]
  },
  {
   "cell_type": "code",
   "execution_count": 39,
   "id": "7d4e8791-e23c-418c-aa73-72292797ada7",
   "metadata": {},
   "outputs": [
    {
     "data": {
      "text/plain": [
       "86.69808917197452"
      ]
     },
     "execution_count": 39,
     "metadata": {},
     "output_type": "execute_result"
    }
   ],
   "source": [
    "1.5124*180/3.14"
   ]
  }
 ],
 "metadata": {
  "kernelspec": {
   "display_name": "Python 3 (ipykernel)",
   "language": "python",
   "name": "python3"
  },
  "language_info": {
   "codemirror_mode": {
    "name": "ipython",
    "version": 3
   },
   "file_extension": ".py",
   "mimetype": "text/x-python",
   "name": "python",
   "nbconvert_exporter": "python",
   "pygments_lexer": "ipython3",
   "version": "3.12.4"
  }
 },
 "nbformat": 4,
 "nbformat_minor": 5
}
