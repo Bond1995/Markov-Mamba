{
 "cells": [
  {
   "cell_type": "code",
   "execution_count": 1,
   "id": "0584eb4e-cfa7-47a1-9553-60b4798400e9",
   "metadata": {},
   "outputs": [],
   "source": [
    "import torch\n",
    "import torch.nn.functional as F"
   ]
  },
  {
   "cell_type": "code",
   "execution_count": 51,
   "id": "a947d884-9a5e-414e-a895-83820e5b667c",
   "metadata": {},
   "outputs": [
    {
     "name": "stdout",
     "output_type": "stream",
     "text": [
      "tensor([0., 1., 1., 0., 0., 0., 1., 1., 0., 1., 0., 1., 0., 0., 0., 1., 1., 1.,\n",
      "        1., 0.])\n",
      "tensor([0., 1., 1., 0., 0., 0., 1., 1., 0., 1., 0., 1., 0., 0., 0., 1., 1., 1.,\n",
      "        1., 0.])\n"
     ]
    }
   ],
   "source": [
    "order = 1\n",
    "beta = 1\n",
    "window = 5\n",
    "x = torch.Tensor([0,1,1,0,0,0,1,1,0,1,0,1,0,0,0,1,1,1,1,0])\n",
    "y = torch.zeros(x.size(0))\n",
    "y[:-1] = x[1:]\n",
    "seq_length = x.size(0)\n",
    "powers = torch.Tensor([2**i for i in reversed(range(order))])\n",
    "idx = F.conv1d(x.view(1, -1), powers.view(1, 1, -1)).squeeze()\n",
    "print(x)\n",
    "print(idx)"
   ]
  },
  {
   "cell_type": "code",
   "execution_count": 52,
   "id": "57d29fc0-dc07-48fc-b1d6-b28e0d5d5e04",
   "metadata": {},
   "outputs": [
    {
     "name": "stdout",
     "output_type": "stream",
     "text": [
      "tensor([ True, False, False,  True,  True,  True, False, False,  True, False,\n",
      "         True, False,  True,  True,  True, False, False, False, False,  True])\n",
      "tensor([[0., 1., 1., 1., 1., 1., 1., 1., 1., 2., 2., 2., 2., 2., 1., 2., 1., 1.,\n",
      "         1., 1.],\n",
      "        [0., 1., 1., 1., 2., 3., 3., 3., 3., 3., 2., 2., 2., 3., 3., 4., 3., 3.,\n",
      "         2., 1.]])\n",
      "tensor([0.5000, 0.6667, 0.6667, 0.6667, 0.5000, 0.4000, 0.4000, 0.4000, 0.4000,\n",
      "        0.6000, 0.7500, 0.7500, 0.7500, 0.6000, 0.4000, 0.5000, 0.4000, 0.4000,\n",
      "        0.5000, 0.6667])\n",
      "tensor([False,  True,  True, False, False, False,  True,  True, False,  True,\n",
      "        False,  True, False, False, False,  True,  True,  True,  True, False])\n",
      "tensor([[0., 0., 1., 1., 1., 1., 1., 1., 1., 1., 1., 1., 0., 0., 0., 0., 1., 2.,\n",
      "         3., 3.],\n",
      "        [0., 0., 1., 2., 2., 2., 2., 2., 2., 2., 3., 3., 3., 2., 2., 1., 2., 2.,\n",
      "         3., 4.]])\n",
      "tensor([0.5000, 0.5000, 0.6667, 0.5000, 0.5000, 0.5000, 0.5000, 0.5000, 0.5000,\n",
      "        0.5000, 0.4000, 0.4000, 0.2000, 0.2500, 0.2500, 0.3333, 0.5000, 0.7500,\n",
      "        0.8000, 0.6667])\n"
     ]
    }
   ],
   "source": [
    "for i in range(2**order):\n",
    "    mask = (idx == i)\n",
    "    print(mask)\n",
    "    s = torch.stack((y[order-1:] * mask.int(), mask.int()))\n",
    "    s = F.pad(s, (window, 0))[:,:-1]\n",
    "    s = F.conv1d(s, torch.ones(2, 1, window), groups=2)\n",
    "    print(s)\n",
    "    p = (s[0] + beta) / (s[1] + 2*beta)\n",
    "    print(p)"
   ]
  },
  {
   "cell_type": "code",
   "execution_count": null,
   "id": "ff2d0bc0-b845-4a10-9790-4edccd3be501",
   "metadata": {},
   "outputs": [],
   "source": []
  }
 ],
 "metadata": {
  "kernelspec": {
   "display_name": "Python 3 (ipykernel)",
   "language": "python",
   "name": "python3"
  },
  "language_info": {
   "codemirror_mode": {
    "name": "ipython",
    "version": 3
   },
   "file_extension": ".py",
   "mimetype": "text/x-python",
   "name": "python",
   "nbconvert_exporter": "python",
   "pygments_lexer": "ipython3",
   "version": "3.12.4"
  }
 },
 "nbformat": 4,
 "nbformat_minor": 5
}
